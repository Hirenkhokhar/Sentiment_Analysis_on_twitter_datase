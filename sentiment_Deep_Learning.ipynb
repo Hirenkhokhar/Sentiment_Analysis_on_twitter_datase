{
  "metadata": {
    "colab": {
      "provenance": [],
      "gpuType": "T4"
    },
    "kernelspec": {
      "name": "python3",
      "display_name": "Python 3",
      "language": "python"
    },
    "language_info": {
      "name": "python",
      "version": "3.10.13",
      "mimetype": "text/x-python",
      "codemirror_mode": {
        "name": "ipython",
        "version": 3
      },
      "pygments_lexer": "ipython3",
      "nbconvert_exporter": "python",
      "file_extension": ".py"
    },
    "accelerator": "GPU",
    "kaggle": {
      "accelerator": "nvidiaTeslaT4",
      "dataSources": [
        {
          "sourceId": 8717776,
          "sourceType": "datasetVersion",
          "datasetId": 5230580
        }
      ],
      "dockerImageVersionId": 30732,
      "isInternetEnabled": true,
      "language": "python",
      "sourceType": "notebook",
      "isGpuEnabled": true
    }
  },
  "nbformat_minor": 0,
  "nbformat": 4,
  "cells": [
    {
      "cell_type": "code",
      "source": [
        "from google.colab import drive\n",
        "drive.mount('/content/drive')"
      ],
      "metadata": {
        "colab": {
          "base_uri": "https://localhost:8080/"
        },
        "id": "R63nRlhKTk5H",
        "outputId": "f9ce99e0-d179-462c-f2a5-5c257caad9cc"
      },
      "execution_count": 1,
      "outputs": [
        {
          "output_type": "stream",
          "name": "stdout",
          "text": [
            "Mounted at /content/drive\n"
          ]
        }
      ]
    },
    {
      "cell_type": "code",
      "source": [
        "!unzip /content/drive/MyDrive/Dataset/reclean.zip"
      ],
      "metadata": {
        "colab": {
          "base_uri": "https://localhost:8080/"
        },
        "id": "S7p70ZYVTlIC",
        "outputId": "db060601-3dbc-404a-b861-30cc85048318"
      },
      "execution_count": 2,
      "outputs": [
        {
          "output_type": "stream",
          "name": "stdout",
          "text": [
            "Archive:  /content/drive/MyDrive/Dataset/reclean.zip\n",
            "  inflating: reclean.csv             \n"
          ]
        }
      ]
    },
    {
      "cell_type": "code",
      "source": [
        "import numpy as np\n",
        "import pandas as pd"
      ],
      "metadata": {
        "id": "aRMJySh4LQHs",
        "execution": {
          "iopub.status.busy": "2024-06-19T06:07:29.961177Z",
          "iopub.execute_input": "2024-06-19T06:07:29.961981Z",
          "iopub.status.idle": "2024-06-19T06:07:30.317240Z",
          "shell.execute_reply.started": "2024-06-19T06:07:29.961944Z",
          "shell.execute_reply": "2024-06-19T06:07:30.316520Z"
        },
        "trusted": true
      },
      "execution_count": 3,
      "outputs": []
    },
    {
      "cell_type": "code",
      "source": [
        "dataset = pd.read_csv(\"/content/reclean.csv\")\n",
        "dataset"
      ],
      "metadata": {
        "execution": {
          "iopub.status.busy": "2024-06-19T06:07:31.357185Z",
          "iopub.execute_input": "2024-06-19T06:07:31.357609Z",
          "iopub.status.idle": "2024-06-19T06:07:35.063192Z",
          "shell.execute_reply.started": "2024-06-19T06:07:31.357582Z",
          "shell.execute_reply": "2024-06-19T06:07:35.062279Z"
        },
        "trusted": true,
        "colab": {
          "base_uri": "https://localhost:8080/",
          "height": 424
        },
        "id": "zErhD-CCTjDz",
        "outputId": "ab5a6aa1-d9c3-49a8-c9a4-6771cc68fafb"
      },
      "execution_count": 4,
      "outputs": [
        {
          "output_type": "execute_result",
          "data": {
            "text/plain": [
              "         sentiment                                     processed_text\n",
              "0                0  <user> <url> - aww, that's a bummer.  you shou...\n",
              "1                0  is upset that he can't update his facebook by ...\n",
              "2                0  <user> i dived many times for the ball. manage...\n",
              "3                0    my whole body feels itchy and like its on fire \n",
              "4                0  <user> no, it's not behaving at all. i'm mad. ...\n",
              "...            ...                                                ...\n",
              "1599995          1  just woke up. having no school is the best fee...\n",
              "1599996          1  thewdb.com - very cool to hear old walt interv...\n",
              "1599997          1  are you ready for your mojo makeover? ask me f...\n",
              "1599998          1  happy 38th birthday to my boo of all time!! tu...\n",
              "1599999          1        happy #charitytuesday <user> <user> <user> \n",
              "\n",
              "[1600000 rows x 2 columns]"
            ],
            "text/html": [
              "\n",
              "  <div id=\"df-9b5b4308-38d3-442e-935d-2b59242c930f\" class=\"colab-df-container\">\n",
              "    <div>\n",
              "<style scoped>\n",
              "    .dataframe tbody tr th:only-of-type {\n",
              "        vertical-align: middle;\n",
              "    }\n",
              "\n",
              "    .dataframe tbody tr th {\n",
              "        vertical-align: top;\n",
              "    }\n",
              "\n",
              "    .dataframe thead th {\n",
              "        text-align: right;\n",
              "    }\n",
              "</style>\n",
              "<table border=\"1\" class=\"dataframe\">\n",
              "  <thead>\n",
              "    <tr style=\"text-align: right;\">\n",
              "      <th></th>\n",
              "      <th>sentiment</th>\n",
              "      <th>processed_text</th>\n",
              "    </tr>\n",
              "  </thead>\n",
              "  <tbody>\n",
              "    <tr>\n",
              "      <th>0</th>\n",
              "      <td>0</td>\n",
              "      <td>&lt;user&gt; &lt;url&gt; - aww, that's a bummer.  you shou...</td>\n",
              "    </tr>\n",
              "    <tr>\n",
              "      <th>1</th>\n",
              "      <td>0</td>\n",
              "      <td>is upset that he can't update his facebook by ...</td>\n",
              "    </tr>\n",
              "    <tr>\n",
              "      <th>2</th>\n",
              "      <td>0</td>\n",
              "      <td>&lt;user&gt; i dived many times for the ball. manage...</td>\n",
              "    </tr>\n",
              "    <tr>\n",
              "      <th>3</th>\n",
              "      <td>0</td>\n",
              "      <td>my whole body feels itchy and like its on fire</td>\n",
              "    </tr>\n",
              "    <tr>\n",
              "      <th>4</th>\n",
              "      <td>0</td>\n",
              "      <td>&lt;user&gt; no, it's not behaving at all. i'm mad. ...</td>\n",
              "    </tr>\n",
              "    <tr>\n",
              "      <th>...</th>\n",
              "      <td>...</td>\n",
              "      <td>...</td>\n",
              "    </tr>\n",
              "    <tr>\n",
              "      <th>1599995</th>\n",
              "      <td>1</td>\n",
              "      <td>just woke up. having no school is the best fee...</td>\n",
              "    </tr>\n",
              "    <tr>\n",
              "      <th>1599996</th>\n",
              "      <td>1</td>\n",
              "      <td>thewdb.com - very cool to hear old walt interv...</td>\n",
              "    </tr>\n",
              "    <tr>\n",
              "      <th>1599997</th>\n",
              "      <td>1</td>\n",
              "      <td>are you ready for your mojo makeover? ask me f...</td>\n",
              "    </tr>\n",
              "    <tr>\n",
              "      <th>1599998</th>\n",
              "      <td>1</td>\n",
              "      <td>happy 38th birthday to my boo of all time!! tu...</td>\n",
              "    </tr>\n",
              "    <tr>\n",
              "      <th>1599999</th>\n",
              "      <td>1</td>\n",
              "      <td>happy #charitytuesday &lt;user&gt; &lt;user&gt; &lt;user&gt;</td>\n",
              "    </tr>\n",
              "  </tbody>\n",
              "</table>\n",
              "<p>1600000 rows × 2 columns</p>\n",
              "</div>\n",
              "    <div class=\"colab-df-buttons\">\n",
              "\n",
              "  <div class=\"colab-df-container\">\n",
              "    <button class=\"colab-df-convert\" onclick=\"convertToInteractive('df-9b5b4308-38d3-442e-935d-2b59242c930f')\"\n",
              "            title=\"Convert this dataframe to an interactive table.\"\n",
              "            style=\"display:none;\">\n",
              "\n",
              "  <svg xmlns=\"http://www.w3.org/2000/svg\" height=\"24px\" viewBox=\"0 -960 960 960\">\n",
              "    <path d=\"M120-120v-720h720v720H120Zm60-500h600v-160H180v160Zm220 220h160v-160H400v160Zm0 220h160v-160H400v160ZM180-400h160v-160H180v160Zm440 0h160v-160H620v160ZM180-180h160v-160H180v160Zm440 0h160v-160H620v160Z\"/>\n",
              "  </svg>\n",
              "    </button>\n",
              "\n",
              "  <style>\n",
              "    .colab-df-container {\n",
              "      display:flex;\n",
              "      gap: 12px;\n",
              "    }\n",
              "\n",
              "    .colab-df-convert {\n",
              "      background-color: #E8F0FE;\n",
              "      border: none;\n",
              "      border-radius: 50%;\n",
              "      cursor: pointer;\n",
              "      display: none;\n",
              "      fill: #1967D2;\n",
              "      height: 32px;\n",
              "      padding: 0 0 0 0;\n",
              "      width: 32px;\n",
              "    }\n",
              "\n",
              "    .colab-df-convert:hover {\n",
              "      background-color: #E2EBFA;\n",
              "      box-shadow: 0px 1px 2px rgba(60, 64, 67, 0.3), 0px 1px 3px 1px rgba(60, 64, 67, 0.15);\n",
              "      fill: #174EA6;\n",
              "    }\n",
              "\n",
              "    .colab-df-buttons div {\n",
              "      margin-bottom: 4px;\n",
              "    }\n",
              "\n",
              "    [theme=dark] .colab-df-convert {\n",
              "      background-color: #3B4455;\n",
              "      fill: #D2E3FC;\n",
              "    }\n",
              "\n",
              "    [theme=dark] .colab-df-convert:hover {\n",
              "      background-color: #434B5C;\n",
              "      box-shadow: 0px 1px 3px 1px rgba(0, 0, 0, 0.15);\n",
              "      filter: drop-shadow(0px 1px 2px rgba(0, 0, 0, 0.3));\n",
              "      fill: #FFFFFF;\n",
              "    }\n",
              "  </style>\n",
              "\n",
              "    <script>\n",
              "      const buttonEl =\n",
              "        document.querySelector('#df-9b5b4308-38d3-442e-935d-2b59242c930f button.colab-df-convert');\n",
              "      buttonEl.style.display =\n",
              "        google.colab.kernel.accessAllowed ? 'block' : 'none';\n",
              "\n",
              "      async function convertToInteractive(key) {\n",
              "        const element = document.querySelector('#df-9b5b4308-38d3-442e-935d-2b59242c930f');\n",
              "        const dataTable =\n",
              "          await google.colab.kernel.invokeFunction('convertToInteractive',\n",
              "                                                    [key], {});\n",
              "        if (!dataTable) return;\n",
              "\n",
              "        const docLinkHtml = 'Like what you see? Visit the ' +\n",
              "          '<a target=\"_blank\" href=https://colab.research.google.com/notebooks/data_table.ipynb>data table notebook</a>'\n",
              "          + ' to learn more about interactive tables.';\n",
              "        element.innerHTML = '';\n",
              "        dataTable['output_type'] = 'display_data';\n",
              "        await google.colab.output.renderOutput(dataTable, element);\n",
              "        const docLink = document.createElement('div');\n",
              "        docLink.innerHTML = docLinkHtml;\n",
              "        element.appendChild(docLink);\n",
              "      }\n",
              "    </script>\n",
              "  </div>\n",
              "\n",
              "\n",
              "<div id=\"df-0fb1c776-44f4-4b65-b182-b15cd28dc8f0\">\n",
              "  <button class=\"colab-df-quickchart\" onclick=\"quickchart('df-0fb1c776-44f4-4b65-b182-b15cd28dc8f0')\"\n",
              "            title=\"Suggest charts\"\n",
              "            style=\"display:none;\">\n",
              "\n",
              "<svg xmlns=\"http://www.w3.org/2000/svg\" height=\"24px\"viewBox=\"0 0 24 24\"\n",
              "     width=\"24px\">\n",
              "    <g>\n",
              "        <path d=\"M19 3H5c-1.1 0-2 .9-2 2v14c0 1.1.9 2 2 2h14c1.1 0 2-.9 2-2V5c0-1.1-.9-2-2-2zM9 17H7v-7h2v7zm4 0h-2V7h2v10zm4 0h-2v-4h2v4z\"/>\n",
              "    </g>\n",
              "</svg>\n",
              "  </button>\n",
              "\n",
              "<style>\n",
              "  .colab-df-quickchart {\n",
              "      --bg-color: #E8F0FE;\n",
              "      --fill-color: #1967D2;\n",
              "      --hover-bg-color: #E2EBFA;\n",
              "      --hover-fill-color: #174EA6;\n",
              "      --disabled-fill-color: #AAA;\n",
              "      --disabled-bg-color: #DDD;\n",
              "  }\n",
              "\n",
              "  [theme=dark] .colab-df-quickchart {\n",
              "      --bg-color: #3B4455;\n",
              "      --fill-color: #D2E3FC;\n",
              "      --hover-bg-color: #434B5C;\n",
              "      --hover-fill-color: #FFFFFF;\n",
              "      --disabled-bg-color: #3B4455;\n",
              "      --disabled-fill-color: #666;\n",
              "  }\n",
              "\n",
              "  .colab-df-quickchart {\n",
              "    background-color: var(--bg-color);\n",
              "    border: none;\n",
              "    border-radius: 50%;\n",
              "    cursor: pointer;\n",
              "    display: none;\n",
              "    fill: var(--fill-color);\n",
              "    height: 32px;\n",
              "    padding: 0;\n",
              "    width: 32px;\n",
              "  }\n",
              "\n",
              "  .colab-df-quickchart:hover {\n",
              "    background-color: var(--hover-bg-color);\n",
              "    box-shadow: 0 1px 2px rgba(60, 64, 67, 0.3), 0 1px 3px 1px rgba(60, 64, 67, 0.15);\n",
              "    fill: var(--button-hover-fill-color);\n",
              "  }\n",
              "\n",
              "  .colab-df-quickchart-complete:disabled,\n",
              "  .colab-df-quickchart-complete:disabled:hover {\n",
              "    background-color: var(--disabled-bg-color);\n",
              "    fill: var(--disabled-fill-color);\n",
              "    box-shadow: none;\n",
              "  }\n",
              "\n",
              "  .colab-df-spinner {\n",
              "    border: 2px solid var(--fill-color);\n",
              "    border-color: transparent;\n",
              "    border-bottom-color: var(--fill-color);\n",
              "    animation:\n",
              "      spin 1s steps(1) infinite;\n",
              "  }\n",
              "\n",
              "  @keyframes spin {\n",
              "    0% {\n",
              "      border-color: transparent;\n",
              "      border-bottom-color: var(--fill-color);\n",
              "      border-left-color: var(--fill-color);\n",
              "    }\n",
              "    20% {\n",
              "      border-color: transparent;\n",
              "      border-left-color: var(--fill-color);\n",
              "      border-top-color: var(--fill-color);\n",
              "    }\n",
              "    30% {\n",
              "      border-color: transparent;\n",
              "      border-left-color: var(--fill-color);\n",
              "      border-top-color: var(--fill-color);\n",
              "      border-right-color: var(--fill-color);\n",
              "    }\n",
              "    40% {\n",
              "      border-color: transparent;\n",
              "      border-right-color: var(--fill-color);\n",
              "      border-top-color: var(--fill-color);\n",
              "    }\n",
              "    60% {\n",
              "      border-color: transparent;\n",
              "      border-right-color: var(--fill-color);\n",
              "    }\n",
              "    80% {\n",
              "      border-color: transparent;\n",
              "      border-right-color: var(--fill-color);\n",
              "      border-bottom-color: var(--fill-color);\n",
              "    }\n",
              "    90% {\n",
              "      border-color: transparent;\n",
              "      border-bottom-color: var(--fill-color);\n",
              "    }\n",
              "  }\n",
              "</style>\n",
              "\n",
              "  <script>\n",
              "    async function quickchart(key) {\n",
              "      const quickchartButtonEl =\n",
              "        document.querySelector('#' + key + ' button');\n",
              "      quickchartButtonEl.disabled = true;  // To prevent multiple clicks.\n",
              "      quickchartButtonEl.classList.add('colab-df-spinner');\n",
              "      try {\n",
              "        const charts = await google.colab.kernel.invokeFunction(\n",
              "            'suggestCharts', [key], {});\n",
              "      } catch (error) {\n",
              "        console.error('Error during call to suggestCharts:', error);\n",
              "      }\n",
              "      quickchartButtonEl.classList.remove('colab-df-spinner');\n",
              "      quickchartButtonEl.classList.add('colab-df-quickchart-complete');\n",
              "    }\n",
              "    (() => {\n",
              "      let quickchartButtonEl =\n",
              "        document.querySelector('#df-0fb1c776-44f4-4b65-b182-b15cd28dc8f0 button');\n",
              "      quickchartButtonEl.style.display =\n",
              "        google.colab.kernel.accessAllowed ? 'block' : 'none';\n",
              "    })();\n",
              "  </script>\n",
              "</div>\n",
              "\n",
              "  <div id=\"id_74610200-9aca-4808-a306-73e0d7f5f788\">\n",
              "    <style>\n",
              "      .colab-df-generate {\n",
              "        background-color: #E8F0FE;\n",
              "        border: none;\n",
              "        border-radius: 50%;\n",
              "        cursor: pointer;\n",
              "        display: none;\n",
              "        fill: #1967D2;\n",
              "        height: 32px;\n",
              "        padding: 0 0 0 0;\n",
              "        width: 32px;\n",
              "      }\n",
              "\n",
              "      .colab-df-generate:hover {\n",
              "        background-color: #E2EBFA;\n",
              "        box-shadow: 0px 1px 2px rgba(60, 64, 67, 0.3), 0px 1px 3px 1px rgba(60, 64, 67, 0.15);\n",
              "        fill: #174EA6;\n",
              "      }\n",
              "\n",
              "      [theme=dark] .colab-df-generate {\n",
              "        background-color: #3B4455;\n",
              "        fill: #D2E3FC;\n",
              "      }\n",
              "\n",
              "      [theme=dark] .colab-df-generate:hover {\n",
              "        background-color: #434B5C;\n",
              "        box-shadow: 0px 1px 3px 1px rgba(0, 0, 0, 0.15);\n",
              "        filter: drop-shadow(0px 1px 2px rgba(0, 0, 0, 0.3));\n",
              "        fill: #FFFFFF;\n",
              "      }\n",
              "    </style>\n",
              "    <button class=\"colab-df-generate\" onclick=\"generateWithVariable('dataset')\"\n",
              "            title=\"Generate code using this dataframe.\"\n",
              "            style=\"display:none;\">\n",
              "\n",
              "  <svg xmlns=\"http://www.w3.org/2000/svg\" height=\"24px\"viewBox=\"0 0 24 24\"\n",
              "       width=\"24px\">\n",
              "    <path d=\"M7,19H8.4L18.45,9,17,7.55,7,17.6ZM5,21V16.75L18.45,3.32a2,2,0,0,1,2.83,0l1.4,1.43a1.91,1.91,0,0,1,.58,1.4,1.91,1.91,0,0,1-.58,1.4L9.25,21ZM18.45,9,17,7.55Zm-12,3A5.31,5.31,0,0,0,4.9,8.1,5.31,5.31,0,0,0,1,6.5,5.31,5.31,0,0,0,4.9,4.9,5.31,5.31,0,0,0,6.5,1,5.31,5.31,0,0,0,8.1,4.9,5.31,5.31,0,0,0,12,6.5,5.46,5.46,0,0,0,6.5,12Z\"/>\n",
              "  </svg>\n",
              "    </button>\n",
              "    <script>\n",
              "      (() => {\n",
              "      const buttonEl =\n",
              "        document.querySelector('#id_74610200-9aca-4808-a306-73e0d7f5f788 button.colab-df-generate');\n",
              "      buttonEl.style.display =\n",
              "        google.colab.kernel.accessAllowed ? 'block' : 'none';\n",
              "\n",
              "      buttonEl.onclick = () => {\n",
              "        google.colab.notebook.generateWithVariable('dataset');\n",
              "      }\n",
              "      })();\n",
              "    </script>\n",
              "  </div>\n",
              "\n",
              "    </div>\n",
              "  </div>\n"
            ],
            "application/vnd.google.colaboratory.intrinsic+json": {
              "type": "dataframe",
              "variable_name": "dataset"
            }
          },
          "metadata": {},
          "execution_count": 4
        }
      ]
    },
    {
      "cell_type": "code",
      "source": [
        "from sklearn.model_selection import train_test_split"
      ],
      "metadata": {
        "id": "zTIJAkI0ESMp",
        "execution": {
          "iopub.status.busy": "2024-06-19T06:07:35.064842Z",
          "iopub.execute_input": "2024-06-19T06:07:35.065120Z",
          "iopub.status.idle": "2024-06-19T06:07:35.765377Z",
          "shell.execute_reply.started": "2024-06-19T06:07:35.065090Z",
          "shell.execute_reply": "2024-06-19T06:07:35.764473Z"
        },
        "trusted": true
      },
      "execution_count": 5,
      "outputs": []
    },
    {
      "cell_type": "code",
      "source": [
        "X_data, y_data = np.array(dataset['processed_text']), np.array(dataset['sentiment'])\n",
        "\n",
        "X_train, X_test, y_train, y_test = train_test_split(X_data, y_data,test_size = 0.2, random_state = 0)\n"
      ],
      "metadata": {
        "id": "IDyVloxVEtAD",
        "execution": {
          "iopub.status.busy": "2024-06-19T06:07:35.766994Z",
          "iopub.execute_input": "2024-06-19T06:07:35.767291Z",
          "iopub.status.idle": "2024-06-19T06:07:35.982823Z",
          "shell.execute_reply.started": "2024-06-19T06:07:35.767266Z",
          "shell.execute_reply": "2024-06-19T06:07:35.981749Z"
        },
        "trusted": true
      },
      "execution_count": 6,
      "outputs": []
    },
    {
      "cell_type": "code",
      "source": [
        "X_test.shape"
      ],
      "metadata": {
        "colab": {
          "base_uri": "https://localhost:8080/"
        },
        "id": "G_5jlLjd9scx",
        "outputId": "d5e41ad9-5cd3-4e49-8b1e-0dbfdd4867ed",
        "execution": {
          "iopub.status.busy": "2024-06-19T06:07:38.230233Z",
          "iopub.execute_input": "2024-06-19T06:07:38.230583Z",
          "iopub.status.idle": "2024-06-19T06:07:38.236260Z",
          "shell.execute_reply.started": "2024-06-19T06:07:38.230554Z",
          "shell.execute_reply": "2024-06-19T06:07:38.235353Z"
        },
        "trusted": true
      },
      "execution_count": 41,
      "outputs": [
        {
          "output_type": "execute_result",
          "data": {
            "text/plain": [
              "(80000, 60)"
            ]
          },
          "metadata": {},
          "execution_count": 41
        }
      ]
    },
    {
      "cell_type": "code",
      "source": [
        "from gensim.models import Word2Vec\n",
        "\n",
        "Embedding_dimensions = 100\n",
        "\n",
        "# Creating Word2Vec training dataset.\n",
        "Word2vec_train_data = list(map(lambda x: x.split(), X_train))\n"
      ],
      "metadata": {
        "id": "imXuaVBHEusc",
        "execution": {
          "iopub.status.busy": "2024-06-19T06:07:39.978256Z",
          "iopub.execute_input": "2024-06-19T06:07:39.979304Z",
          "iopub.status.idle": "2024-06-19T06:07:57.673120Z",
          "shell.execute_reply.started": "2024-06-19T06:07:39.979273Z",
          "shell.execute_reply": "2024-06-19T06:07:57.672311Z"
        },
        "trusted": true
      },
      "execution_count": 8,
      "outputs": []
    },
    {
      "cell_type": "code",
      "source": [
        "# Defining the model and training it.\n",
        "word2vec_model = Word2Vec(Word2vec_train_data,\n",
        "                 vector_size=Embedding_dimensions,\n",
        "                 workers=8,\n",
        "                 min_count=5)\n",
        "\n",
        "print(\"Vocabulary Length:\", len(word2vec_model.wv.key_to_index))"
      ],
      "metadata": {
        "id": "M5z84wtqEwjy",
        "colab": {
          "base_uri": "https://localhost:8080/"
        },
        "outputId": "3240f213-e734-4b6e-8b70-9c7d8ba7734d",
        "execution": {
          "iopub.status.busy": "2024-06-19T06:07:57.674576Z",
          "iopub.execute_input": "2024-06-19T06:07:57.675014Z",
          "iopub.status.idle": "2024-06-19T06:09:26.382489Z",
          "shell.execute_reply.started": "2024-06-19T06:07:57.674989Z",
          "shell.execute_reply": "2024-06-19T06:09:26.381523Z"
        },
        "trusted": true
      },
      "execution_count": 9,
      "outputs": [
        {
          "output_type": "stream",
          "name": "stdout",
          "text": [
            "Vocabulary Length: 88778\n"
          ]
        }
      ]
    },
    {
      "cell_type": "code",
      "source": [
        "# Defining the model input length.\n",
        "input_length = 60\n",
        "\n",
        "from tensorflow.keras.preprocessing.text import Tokenizer\n",
        "from tensorflow.keras.preprocessing.sequence import pad_sequences"
      ],
      "metadata": {
        "id": "pLJtjiax75kK",
        "execution": {
          "iopub.status.busy": "2024-06-19T06:09:26.383618Z",
          "iopub.execute_input": "2024-06-19T06:09:26.383909Z",
          "iopub.status.idle": "2024-06-19T06:09:44.800677Z",
          "shell.execute_reply.started": "2024-06-19T06:09:26.383884Z",
          "shell.execute_reply": "2024-06-19T06:09:44.799798Z"
        },
        "trusted": true
      },
      "execution_count": 10,
      "outputs": []
    },
    {
      "cell_type": "code",
      "source": [
        "vocab_length = 60000\n",
        "\n",
        "tokenizer = Tokenizer(filters=\"\", lower=False, oov_token=\"<oov>\")\n",
        "tokenizer.fit_on_texts(X_data)\n",
        "tokenizer.num_words = vocab_length\n",
        "print(\"Tokenizer vocab length:\", vocab_length)"
      ],
      "metadata": {
        "colab": {
          "base_uri": "https://localhost:8080/"
        },
        "id": "IOm_28n5E05g",
        "outputId": "8cfc1bbe-2eca-482f-8942-500b1eeedc26",
        "execution": {
          "iopub.status.busy": "2024-06-19T06:09:44.802902Z",
          "iopub.execute_input": "2024-06-19T06:09:44.803486Z",
          "iopub.status.idle": "2024-06-19T06:10:11.950073Z",
          "shell.execute_reply.started": "2024-06-19T06:09:44.803457Z",
          "shell.execute_reply": "2024-06-19T06:10:11.949138Z"
        },
        "trusted": true
      },
      "execution_count": 11,
      "outputs": [
        {
          "output_type": "stream",
          "name": "stdout",
          "text": [
            "Tokenizer vocab length: 60000\n"
          ]
        }
      ]
    },
    {
      "cell_type": "code",
      "source": [
        "X_train = pad_sequences(tokenizer.texts_to_sequences(X_train), maxlen=input_length)\n",
        "X_test  = pad_sequences(tokenizer.texts_to_sequences(X_test) , maxlen=input_length)\n",
        "\n",
        "print(\"X_train.shape:\", X_train.shape)\n",
        "print(\"X_test.shape :\", X_test.shape)\n"
      ],
      "metadata": {
        "colab": {
          "base_uri": "https://localhost:8080/"
        },
        "id": "Oupe5i-5E258",
        "outputId": "9e34130c-bdd4-438d-8920-d87cb11d5d47",
        "execution": {
          "iopub.status.busy": "2024-06-19T06:10:11.951566Z",
          "iopub.execute_input": "2024-06-19T06:10:11.951881Z",
          "iopub.status.idle": "2024-06-19T06:10:41.621478Z",
          "shell.execute_reply.started": "2024-06-19T06:10:11.951854Z",
          "shell.execute_reply": "2024-06-19T06:10:41.620450Z"
        },
        "trusted": true
      },
      "execution_count": 12,
      "outputs": [
        {
          "output_type": "stream",
          "name": "stdout",
          "text": [
            "X_train.shape: (1520000, 60)\n",
            "X_test.shape : (80000, 60)\n"
          ]
        }
      ]
    },
    {
      "cell_type": "code",
      "source": [
        "len(tokenizer.word_index)"
      ],
      "metadata": {
        "colab": {
          "base_uri": "https://localhost:8080/"
        },
        "id": "1Z0KbI1Elgcc",
        "outputId": "acf3708b-924d-4052-8af9-4d478552e8d7",
        "execution": {
          "iopub.status.busy": "2024-06-19T06:10:41.622518Z",
          "iopub.execute_input": "2024-06-19T06:10:41.622787Z",
          "iopub.status.idle": "2024-06-19T06:10:41.628523Z",
          "shell.execute_reply.started": "2024-06-19T06:10:41.622763Z",
          "shell.execute_reply": "2024-06-19T06:10:41.627531Z"
        },
        "trusted": true
      },
      "execution_count": 13,
      "outputs": [
        {
          "output_type": "execute_result",
          "data": {
            "text/plain": [
              "697104"
            ]
          },
          "metadata": {},
          "execution_count": 13
        }
      ]
    },
    {
      "cell_type": "code",
      "source": [
        "vocab_length = len(tokenizer.word_index) + 1\n",
        "embedding_matrix = np.zeros((vocab_length, Embedding_dimensions))\n",
        "\n",
        "for word, token in tokenizer.word_index.items():\n",
        "    if word2vec_model.wv.__contains__(word):\n",
        "        embedding_matrix[token] = word2vec_model.wv.__getitem__(word)\n",
        "\n",
        "print(\"Embedding Matrix Shape:\", embedding_matrix.shape)"
      ],
      "metadata": {
        "colab": {
          "base_uri": "https://localhost:8080/"
        },
        "id": "A-boUK9GE5C-",
        "outputId": "503bc51c-1be7-4f28-a499-1ac4b57b237e",
        "execution": {
          "iopub.status.busy": "2024-06-19T06:10:41.629667Z",
          "iopub.execute_input": "2024-06-19T06:10:41.629943Z",
          "iopub.status.idle": "2024-06-19T06:10:42.845598Z",
          "shell.execute_reply.started": "2024-06-19T06:10:41.629919Z",
          "shell.execute_reply": "2024-06-19T06:10:42.844622Z"
        },
        "trusted": true
      },
      "execution_count": 14,
      "outputs": [
        {
          "output_type": "stream",
          "name": "stdout",
          "text": [
            "Embedding Matrix Shape: (697105, 100)\n"
          ]
        }
      ]
    },
    {
      "cell_type": "code",
      "source": [
        "from tensorflow.keras import Sequential\n",
        "from tensorflow.keras.layers import Bidirectional, GlobalMaxPool1D, Dense, LSTM, Conv1D, Embedding"
      ],
      "metadata": {
        "id": "7KyNtEqiE8Ij",
        "execution": {
          "iopub.status.busy": "2024-06-19T06:10:42.846680Z",
          "iopub.execute_input": "2024-06-19T06:10:42.846961Z",
          "iopub.status.idle": "2024-06-19T06:10:42.852232Z",
          "shell.execute_reply.started": "2024-06-19T06:10:42.846937Z",
          "shell.execute_reply": "2024-06-19T06:10:42.851476Z"
        },
        "trusted": true
      },
      "execution_count": 15,
      "outputs": []
    },
    {
      "cell_type": "code",
      "source": [
        "def getModel():\n",
        "    embedding_layer = Embedding(input_dim = vocab_length,\n",
        "                                output_dim = Embedding_dimensions,\n",
        "                                weights=[embedding_matrix],\n",
        "                                input_length=input_length,\n",
        "                                trainable=False)\n",
        "\n",
        "    model = Sequential([\n",
        "        embedding_layer,\n",
        "        Bidirectional(LSTM(100, dropout=0.3, return_sequences=True)),\n",
        "        Bidirectional(LSTM(100, dropout=0.3, return_sequences=True)),\n",
        "        Conv1D(100, 5, activation='relu'),\n",
        "        GlobalMaxPool1D(),\n",
        "        Dense(16, activation='relu'),\n",
        "        Dense(1, activation='sigmoid'),\n",
        "    ],\n",
        "    name=\"Sentiment_Model\")\n",
        "    return model"
      ],
      "metadata": {
        "id": "R6TFd93fE-C9",
        "execution": {
          "iopub.status.busy": "2024-06-19T06:10:42.853516Z",
          "iopub.execute_input": "2024-06-19T06:10:42.853811Z",
          "iopub.status.idle": "2024-06-19T06:10:42.861063Z",
          "shell.execute_reply.started": "2024-06-19T06:10:42.853789Z",
          "shell.execute_reply": "2024-06-19T06:10:42.860370Z"
        },
        "trusted": true
      },
      "execution_count": 16,
      "outputs": []
    },
    {
      "cell_type": "code",
      "source": [
        "training_model = getModel()\n",
        "training_model.summary()"
      ],
      "metadata": {
        "colab": {
          "base_uri": "https://localhost:8080/"
        },
        "id": "WtbTVbBbE-fF",
        "outputId": "bb119d75-23b1-4359-f741-42dcdb44d941",
        "execution": {
          "iopub.status.busy": "2024-06-19T06:10:42.863467Z",
          "iopub.execute_input": "2024-06-19T06:10:42.863731Z",
          "iopub.status.idle": "2024-06-19T06:10:44.751979Z",
          "shell.execute_reply.started": "2024-06-19T06:10:42.863709Z",
          "shell.execute_reply": "2024-06-19T06:10:44.751157Z"
        },
        "trusted": true
      },
      "execution_count": 17,
      "outputs": [
        {
          "output_type": "stream",
          "name": "stdout",
          "text": [
            "Model: \"Sentiment_Model\"\n",
            "_________________________________________________________________\n",
            " Layer (type)                Output Shape              Param #   \n",
            "=================================================================\n",
            " embedding (Embedding)       (None, 60, 100)           69710500  \n",
            "                                                                 \n",
            " bidirectional (Bidirection  (None, 60, 200)           160800    \n",
            " al)                                                             \n",
            "                                                                 \n",
            " bidirectional_1 (Bidirecti  (None, 60, 200)           240800    \n",
            " onal)                                                           \n",
            "                                                                 \n",
            " conv1d (Conv1D)             (None, 56, 100)           100100    \n",
            "                                                                 \n",
            " global_max_pooling1d (Glob  (None, 100)               0         \n",
            " alMaxPooling1D)                                                 \n",
            "                                                                 \n",
            " dense (Dense)               (None, 16)                1616      \n",
            "                                                                 \n",
            " dense_1 (Dense)             (None, 1)                 17        \n",
            "                                                                 \n",
            "=================================================================\n",
            "Total params: 70213833 (267.84 MB)\n",
            "Trainable params: 503333 (1.92 MB)\n",
            "Non-trainable params: 69710500 (265.92 MB)\n",
            "_________________________________________________________________\n"
          ]
        }
      ]
    },
    {
      "cell_type": "code",
      "source": [
        "from tensorflow.keras.callbacks import ReduceLROnPlateau, EarlyStopping,ModelCheckpoint\n",
        "\n",
        "callbacks = [ReduceLROnPlateau(monitor='val_loss', patience=5, cooldown=0),\n",
        "             EarlyStopping(monitor='val_accuracy', min_delta=1e-4, patience=5),\n",
        "             ModelCheckpoint(\"model_best.h5\",monitor='val_accuracy', save_best_only=True, mode='max',verbose=1)]"
      ],
      "metadata": {
        "id": "e-norrQ5FATU",
        "execution": {
          "iopub.status.busy": "2024-06-19T07:01:18.533867Z",
          "iopub.execute_input": "2024-06-19T07:01:18.534709Z",
          "iopub.status.idle": "2024-06-19T07:01:18.572314Z",
          "shell.execute_reply.started": "2024-06-19T07:01:18.534678Z",
          "shell.execute_reply": "2024-06-19T07:01:18.571114Z"
        },
        "trusted": true
      },
      "execution_count": 23,
      "outputs": []
    },
    {
      "cell_type": "code",
      "source": [
        "training_model.compile(loss='binary_crossentropy', optimizer='adam', metrics=['accuracy'])"
      ],
      "metadata": {
        "id": "Z3xALA9lFCgn",
        "execution": {
          "iopub.status.busy": "2024-06-19T06:10:44.762495Z",
          "iopub.execute_input": "2024-06-19T06:10:44.762843Z",
          "iopub.status.idle": "2024-06-19T06:10:44.789267Z",
          "shell.execute_reply.started": "2024-06-19T06:10:44.762820Z",
          "shell.execute_reply": "2024-06-19T06:10:44.788612Z"
        },
        "trusted": true
      },
      "execution_count": 24,
      "outputs": []
    },
    {
      "cell_type": "code",
      "source": [
        "history = training_model.fit(\n",
        "    X_train, y_train,\n",
        "    batch_size=1024,\n",
        "    epochs= 30,\n",
        "    validation_split=0.1,\n",
        "    callbacks=callbacks,\n",
        "    verbose=1,\n",
        ")"
      ],
      "metadata": {
        "colab": {
          "base_uri": "https://localhost:8080/"
        },
        "id": "zNztfRkXFGem",
        "outputId": "0e8551e9-6f85-49e1-d69c-092464261604",
        "execution": {
          "iopub.status.busy": "2024-06-18T14:06:11.991106Z",
          "iopub.execute_input": "2024-06-18T14:06:11.991331Z",
          "iopub.status.idle": "2024-06-18T16:54:38.144456Z",
          "shell.execute_reply.started": "2024-06-18T14:06:11.991311Z",
          "shell.execute_reply": "2024-06-18T16:54:38.143480Z"
        },
        "trusted": true
      },
      "execution_count": 25,
      "outputs": [
        {
          "output_type": "stream",
          "name": "stdout",
          "text": [
            "Epoch 1/30\n",
            "1336/1336 [==============================] - ETA: 0s - loss: 0.4200 - accuracy: 0.8049\n",
            "Epoch 1: val_accuracy improved from -inf to 0.82280, saving model to model_best.h5\n"
          ]
        },
        {
          "output_type": "stream",
          "name": "stderr",
          "text": [
            "/usr/local/lib/python3.10/dist-packages/keras/src/engine/training.py:3103: UserWarning: You are saving your model as an HDF5 file via `model.save()`. This file format is considered legacy. We recommend using instead the native Keras format, e.g. `model.save('my_model.keras')`.\n",
            "  saving_api.save_model(\n"
          ]
        },
        {
          "output_type": "stream",
          "name": "stdout",
          "text": [
            "\b\b\b\b\b\b\b\b\b\b\b\b\b\b\b\b\b\b\b\b\b\b\b\b\b\b\b\b\b\b\b\b\b\b\b\b\b\b\b\b\b\b\b\b\b\b\b\b\b\b\b\b\b\b\b\b\b\b\b\b\b\b\b\b\b\b\b\b\b\b\b\b\b\b\b\b\b\b\b\b\b\b\b\b\b\b\r1336/1336 [==============================] - 162s 115ms/step - loss: 0.4200 - accuracy: 0.8049 - val_loss: 0.3904 - val_accuracy: 0.8228 - lr: 0.0010\n",
            "Epoch 2/30\n",
            "1336/1336 [==============================] - ETA: 0s - loss: 0.3985 - accuracy: 0.8174\n",
            "Epoch 2: val_accuracy improved from 0.82280 to 0.82878, saving model to model_best.h5\n",
            "1336/1336 [==============================] - 156s 117ms/step - loss: 0.3985 - accuracy: 0.8174 - val_loss: 0.3805 - val_accuracy: 0.8288 - lr: 0.0010\n",
            "Epoch 3/30\n",
            "1336/1336 [==============================] - ETA: 0s - loss: 0.3878 - accuracy: 0.8236\n",
            "Epoch 3: val_accuracy improved from 0.82878 to 0.83280, saving model to model_best.h5\n",
            "1336/1336 [==============================] - 151s 113ms/step - loss: 0.3878 - accuracy: 0.8236 - val_loss: 0.3729 - val_accuracy: 0.8328 - lr: 0.0010\n",
            "Epoch 4/30\n",
            "1336/1336 [==============================] - ETA: 0s - loss: 0.3806 - accuracy: 0.8274\n",
            "Epoch 4: val_accuracy improved from 0.83280 to 0.83561, saving model to model_best.h5\n",
            "1336/1336 [==============================] - 156s 117ms/step - loss: 0.3806 - accuracy: 0.8274 - val_loss: 0.3666 - val_accuracy: 0.8356 - lr: 0.0010\n",
            "Epoch 5/30\n",
            "1336/1336 [==============================] - ETA: 0s - loss: 0.3757 - accuracy: 0.8300\n",
            "Epoch 5: val_accuracy improved from 0.83561 to 0.83781, saving model to model_best.h5\n",
            "1336/1336 [==============================] - 156s 117ms/step - loss: 0.3757 - accuracy: 0.8300 - val_loss: 0.3635 - val_accuracy: 0.8378 - lr: 0.0010\n",
            "Epoch 6/30\n",
            "1336/1336 [==============================] - ETA: 0s - loss: 0.3715 - accuracy: 0.8323\n",
            "Epoch 6: val_accuracy improved from 0.83781 to 0.83818, saving model to model_best.h5\n",
            "1336/1336 [==============================] - 151s 113ms/step - loss: 0.3715 - accuracy: 0.8323 - val_loss: 0.3627 - val_accuracy: 0.8382 - lr: 0.0010\n",
            "Epoch 7/30\n",
            "1336/1336 [==============================] - ETA: 0s - loss: 0.3680 - accuracy: 0.8345\n",
            "Epoch 7: val_accuracy improved from 0.83818 to 0.83971, saving model to model_best.h5\n",
            "1336/1336 [==============================] - 151s 113ms/step - loss: 0.3680 - accuracy: 0.8345 - val_loss: 0.3601 - val_accuracy: 0.8397 - lr: 0.0010\n",
            "Epoch 8/30\n",
            "1336/1336 [==============================] - ETA: 0s - loss: 0.3651 - accuracy: 0.8359\n",
            "Epoch 8: val_accuracy improved from 0.83971 to 0.84114, saving model to model_best.h5\n",
            "1336/1336 [==============================] - 156s 116ms/step - loss: 0.3651 - accuracy: 0.8359 - val_loss: 0.3575 - val_accuracy: 0.8411 - lr: 0.0010\n",
            "Epoch 9/30\n",
            "1336/1336 [==============================] - ETA: 0s - loss: 0.3623 - accuracy: 0.8370\n",
            "Epoch 9: val_accuracy improved from 0.84114 to 0.84150, saving model to model_best.h5\n",
            "1336/1336 [==============================] - 158s 118ms/step - loss: 0.3623 - accuracy: 0.8370 - val_loss: 0.3572 - val_accuracy: 0.8415 - lr: 0.0010\n",
            "Epoch 10/30\n",
            "1336/1336 [==============================] - ETA: 0s - loss: 0.3602 - accuracy: 0.8385\n",
            "Epoch 10: val_accuracy improved from 0.84150 to 0.84226, saving model to model_best.h5\n",
            "1336/1336 [==============================] - 157s 117ms/step - loss: 0.3602 - accuracy: 0.8385 - val_loss: 0.3562 - val_accuracy: 0.8423 - lr: 0.0010\n",
            "Epoch 11/30\n",
            "1336/1336 [==============================] - ETA: 0s - loss: 0.3577 - accuracy: 0.8397\n",
            "Epoch 11: val_accuracy improved from 0.84226 to 0.84236, saving model to model_best.h5\n",
            "1336/1336 [==============================] - 151s 113ms/step - loss: 0.3577 - accuracy: 0.8397 - val_loss: 0.3563 - val_accuracy: 0.8424 - lr: 0.0010\n",
            "Epoch 12/30\n",
            "1336/1336 [==============================] - ETA: 0s - loss: 0.3563 - accuracy: 0.8402\n",
            "Epoch 12: val_accuracy improved from 0.84236 to 0.84286, saving model to model_best.h5\n",
            "1336/1336 [==============================] - 156s 116ms/step - loss: 0.3563 - accuracy: 0.8402 - val_loss: 0.3565 - val_accuracy: 0.8429 - lr: 0.0010\n",
            "Epoch 13/30\n",
            "1336/1336 [==============================] - ETA: 0s - loss: 0.3546 - accuracy: 0.8411\n",
            "Epoch 13: val_accuracy improved from 0.84286 to 0.84437, saving model to model_best.h5\n",
            "1336/1336 [==============================] - 156s 117ms/step - loss: 0.3546 - accuracy: 0.8411 - val_loss: 0.3550 - val_accuracy: 0.8444 - lr: 0.0010\n",
            "Epoch 14/30\n",
            "1336/1336 [==============================] - ETA: 0s - loss: 0.3529 - accuracy: 0.8421\n",
            "Epoch 14: val_accuracy did not improve from 0.84437\n",
            "1336/1336 [==============================] - 154s 116ms/step - loss: 0.3529 - accuracy: 0.8421 - val_loss: 0.3567 - val_accuracy: 0.8433 - lr: 0.0010\n",
            "Epoch 15/30\n",
            "1336/1336 [==============================] - ETA: 0s - loss: 0.3518 - accuracy: 0.8426\n",
            "Epoch 15: val_accuracy did not improve from 0.84437\n",
            "1336/1336 [==============================] - 150s 112ms/step - loss: 0.3518 - accuracy: 0.8426 - val_loss: 0.3551 - val_accuracy: 0.8437 - lr: 0.0010\n",
            "Epoch 16/30\n",
            "1336/1336 [==============================] - ETA: 0s - loss: 0.3500 - accuracy: 0.8438\n",
            "Epoch 16: val_accuracy did not improve from 0.84437\n",
            "1336/1336 [==============================] - 154s 115ms/step - loss: 0.3500 - accuracy: 0.8438 - val_loss: 0.3567 - val_accuracy: 0.8440 - lr: 0.0010\n",
            "Epoch 17/30\n",
            "1336/1336 [==============================] - ETA: 0s - loss: 0.3494 - accuracy: 0.8438\n",
            "Epoch 17: val_accuracy did not improve from 0.84437\n",
            "1336/1336 [==============================] - 150s 112ms/step - loss: 0.3494 - accuracy: 0.8438 - val_loss: 0.3552 - val_accuracy: 0.8436 - lr: 0.0010\n",
            "Epoch 18/30\n",
            "1336/1336 [==============================] - ETA: 0s - loss: 0.3478 - accuracy: 0.8449\n",
            "Epoch 18: val_accuracy did not improve from 0.84437\n",
            "1336/1336 [==============================] - 154s 115ms/step - loss: 0.3478 - accuracy: 0.8449 - val_loss: 0.3566 - val_accuracy: 0.8439 - lr: 0.0010\n"
          ]
        }
      ]
    },
    {
      "cell_type": "code",
      "source": [
        "import matplotlib.pyplot as plt\n",
        "plt.plot(history.history['loss'], label='Train Loss')\n",
        "plt.plot(history.history['val_loss'], label='Validation Loss')\n",
        "plt.title('Model Loss')\n",
        "plt.ylabel('Loss')\n",
        "plt.xlabel('Epoch')\n",
        "plt.legend(loc='upper left')\n",
        "\n",
        "plt.tight_layout()\n",
        "plt.show()"
      ],
      "metadata": {
        "id": "M_7M7YhWFIBT",
        "colab": {
          "base_uri": "https://localhost:8080/",
          "height": 487
        },
        "outputId": "ff3c2d9a-896c-4dde-dd32-4b8dfafdb2d4",
        "execution": {
          "iopub.status.busy": "2024-06-18T16:54:38.146046Z",
          "iopub.execute_input": "2024-06-18T16:54:38.146338Z",
          "iopub.status.idle": "2024-06-18T16:54:38.542999Z",
          "shell.execute_reply.started": "2024-06-18T16:54:38.146312Z",
          "shell.execute_reply": "2024-06-18T16:54:38.542103Z"
        },
        "trusted": true
      },
      "execution_count": 26,
      "outputs": [
        {
          "output_type": "display_data",
          "data": {
            "text/plain": [
              "<Figure size 640x480 with 1 Axes>"
            ],
            "image/png": "[encoded data removed]"
          },
          "metadata": {}
        }
      ]
    },
    {
      "cell_type": "code",
      "source": [
        "plt.plot(history.history['accuracy'], label='Train Accuracy')\n",
        "plt.plot(history.history['val_accuracy'], label='Validation Accuracy')\n",
        "plt.title('Model Accuracy')\n",
        "plt.ylabel('Accuracy')\n",
        "plt.xlabel('Epoch')\n",
        "plt.legend()\n",
        "plt.show()"
      ],
      "metadata": {
        "colab": {
          "base_uri": "https://localhost:8080/",
          "height": 472
        },
        "id": "o2iBxuEN0i_P",
        "outputId": "7ed0653b-6e95-4969-c624-aa2f216b6431",
        "execution": {
          "iopub.status.busy": "2024-06-18T16:54:38.544102Z",
          "iopub.execute_input": "2024-06-18T16:54:38.544385Z",
          "iopub.status.idle": "2024-06-18T16:54:38.778819Z",
          "shell.execute_reply.started": "2024-06-18T16:54:38.544360Z",
          "shell.execute_reply": "2024-06-18T16:54:38.777931Z"
        },
        "trusted": true
      },
      "execution_count": 27,
      "outputs": [
        {
          "output_type": "display_data",
          "data": {
            "text/plain": [
              "<Figure size 640x480 with 1 Axes>"
            ],
            "image/png": "[encoded data removed]"
          },
          "metadata": {}
        }
      ]
    },
    {
      "cell_type": "code",
      "source": [
        "y_pred=training_model.predict(X_test)\n",
        "y_pred = np.where(y_pred > 0.5, 1, 0)"
      ],
      "metadata": {
        "colab": {
          "base_uri": "https://localhost:8080/"
        },
        "id": "dFRRoHIqTjEH",
        "outputId": "6ae4ef41-3a5d-44cc-a08c-3ca40272aba3"
      },
      "execution_count": 28,
      "outputs": [
        {
          "output_type": "stream",
          "name": "stdout",
          "text": [
            "2500/2500 [==============================] - 17s 6ms/step\n"
          ]
        }
      ]
    },
    {
      "cell_type": "code",
      "source": [
        "from sklearn.metrics import accuracy_score,ConfusionMatrixDisplay,confusion_matrix\n",
        "accuracy_score(y_test,y_pred)"
      ],
      "metadata": {
        "colab": {
          "base_uri": "https://localhost:8080/"
        },
        "id": "mJP_4FLBph04",
        "outputId": "dff09da9-0269-4d54-ae7c-5f128a8dea42"
      },
      "execution_count": 30,
      "outputs": [
        {
          "output_type": "execute_result",
          "data": {
            "text/plain": [
              "0.84295"
            ]
          },
          "metadata": {},
          "execution_count": 30
        }
      ]
    },
    {
      "cell_type": "code",
      "source": [
        "cm = confusion_matrix(y_test,y_pred)\n",
        "cm"
      ],
      "metadata": {
        "colab": {
          "base_uri": "https://localhost:8080/"
        },
        "id": "zPA8HBDwpicj",
        "outputId": "f946442a-2830-4f8f-eb99-6e45ac6febe5"
      },
      "execution_count": 39,
      "outputs": [
        {
          "output_type": "execute_result",
          "data": {
            "text/plain": [
              "array([[32979,  7010],\n",
              "       [ 5554, 34457]])"
            ]
          },
          "metadata": {},
          "execution_count": 39
        }
      ]
    },
    {
      "cell_type": "code",
      "source": [
        "from matplotlib import pyplot as plt\n",
        "disp = ConfusionMatrixDisplay(confusion_matrix=cm, display_labels=['Negative', 'Positive'])\n",
        "disp.plot(cmap=plt.cm.Blues)"
      ],
      "metadata": {
        "colab": {
          "base_uri": "https://localhost:8080/",
          "height": 466
        },
        "id": "heCfKr65xUaZ",
        "outputId": "f482a00a-ad37-4c45-db75-605dd05facc3"
      },
      "execution_count": 38,
      "outputs": [
        {
          "output_type": "execute_result",
          "data": {
            "text/plain": [
              "<sklearn.metrics._plot.confusion_matrix.ConfusionMatrixDisplay at 0x78783a2c99f0>"
            ]
          },
          "metadata": {},
          "execution_count": 38
        },
        {
          "output_type": "display_data",
          "data": {
            "text/plain": [
              "<Figure size 640x480 with 2 Axes>"
            ],
            "image/png": "[encoded data removed]"
          },
          "metadata": {}
        }
      ]
    },
    {
      "cell_type": "code",
      "source": [
        "from sklearn.metrics import classification_report\n"
      ],
      "metadata": {
        "id": "DFfaC7NZyP2C"
      },
      "execution_count": 43,
      "outputs": []
    },
    {
      "cell_type": "code",
      "source": [
        "print(classification_report(y_pred,y_test) )"
      ],
      "metadata": {
        "colab": {
          "base_uri": "https://localhost:8080/"
        },
        "id": "KqO4-CkH2rE2",
        "outputId": "82ddb704-dafa-457f-f672-1583cbd67ad1"
      },
      "execution_count": 46,
      "outputs": [
        {
          "output_type": "stream",
          "name": "stdout",
          "text": [
            "              precision    recall  f1-score   support\n",
            "\n",
            "           0       0.82      0.86      0.84     38533\n",
            "           1       0.86      0.83      0.85     41467\n",
            "\n",
            "    accuracy                           0.84     80000\n",
            "   macro avg       0.84      0.84      0.84     80000\n",
            "weighted avg       0.84      0.84      0.84     80000\n",
            "\n"
          ]
        }
      ]
    },
    {
      "cell_type": "code",
      "source": [],
      "metadata": {
        "id": "KBg8Hy7q5Hgh"
      },
      "execution_count": null,
      "outputs": []
    }
  ]
}